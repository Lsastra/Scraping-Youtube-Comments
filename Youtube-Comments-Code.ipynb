{
 "cells": [
  {
   "cell_type": "code",
   "execution_count": 1,
   "metadata": {},
   "outputs": [],
   "source": [
    "import time\n",
    "import re\n",
    "import pandas as pd\n",
    "from selenium import webdriver\n",
    "from selenium.webdriver.common.keys import Keys\n",
    "from selenium.webdriver.support import expected_conditions as EC #this for css\n",
    "from tqdm import tqdm"
   ]
  },
  {
   "cell_type": "code",
   "execution_count": 2,
   "metadata": {},
   "outputs": [
    {
     "name": "stderr",
     "output_type": "stream",
     "text": [
      "100%|██████████| 20/20 [00:41<00:00,  2.06s/it]\n"
     ]
    }
   ],
   "source": [
    "page_url = \"https://www.youtube.com/watch?v=f5yjGhEAvsQ\"\n",
    "driver = webdriver.Chrome()\n",
    "driver.get(page_url)\n",
    "\n",
    "SCROLL_PAUSE_TIME = 2\n",
    "CYCLES = 20\n",
    "\n",
    "html = driver.find_element_by_tag_name('html')\n",
    "html.send_keys(Keys.PAGE_DOWN)  \n",
    "html.send_keys(Keys.PAGE_DOWN)  \n",
    "time.sleep(SCROLL_PAUSE_TIME * 3)\n",
    "\n",
    "for i in tqdm (range(CYCLES)):\n",
    "    html.send_keys(Keys.END)\n",
    "    time.sleep(SCROLL_PAUSE_TIME)"
   ]
  },
  {
   "cell_type": "code",
   "execution_count": 3,
   "metadata": {
    "scrolled": true
   },
   "outputs": [],
   "source": [
    "v_comments=driver.find_elements_by_xpath('//*[@id=\"content-text\"]')\n",
    "v_name=driver.find_elements_by_xpath('//*[@id=\"author-text\"]')\n",
    "v_title=driver.find_elements_by_xpath('//*[@id=\"container\"]/h1')"
   ]
  },
  {
   "cell_type": "code",
   "execution_count": 4,
   "metadata": {},
   "outputs": [],
   "source": [
    "titles = []\n",
    "titles.append(str(v_title[0].text))"
   ]
  },
  {
   "cell_type": "code",
   "execution_count": 5,
   "metadata": {},
   "outputs": [
    {
     "name": "stderr",
     "output_type": "stream",
     "text": [
      "100%|██████████| 152/152 [00:04<00:00, 32.60it/s]\n"
     ]
    }
   ],
   "source": [
    "names = []\n",
    "comments = []\n",
    "number_of_items=len(v_name)\n",
    "for i in tqdm (range(number_of_items)):\n",
    "    names.append(str(v_name[i].text))\n",
    "    comments.append(str(v_comments[i].text))"
   ]
  },
  {
   "cell_type": "code",
   "execution_count": 6,
   "metadata": {},
   "outputs": [],
   "source": [
    "ycd = pd.DataFrame(set(zip(names, comments))) #youtubecommentdata\n",
    "ycd.columns = [\"UserName\", \"Comments\"]\n",
    "df = ycd"
   ]
  },
  {
   "cell_type": "code",
   "execution_count": 8,
   "metadata": {
    "scrolled": true
   },
   "outputs": [
    {
     "data": {
      "text/html": [
       "<div>\n",
       "<style scoped>\n",
       "    .dataframe tbody tr th:only-of-type {\n",
       "        vertical-align: middle;\n",
       "    }\n",
       "\n",
       "    .dataframe tbody tr th {\n",
       "        vertical-align: top;\n",
       "    }\n",
       "\n",
       "    .dataframe thead th {\n",
       "        text-align: right;\n",
       "    }\n",
       "</style>\n",
       "<table border=\"1\" class=\"dataframe\">\n",
       "  <thead>\n",
       "    <tr style=\"text-align: right;\">\n",
       "      <th></th>\n",
       "      <th>UserName</th>\n",
       "      <th>Comments</th>\n",
       "    </tr>\n",
       "  </thead>\n",
       "  <tbody>\n",
       "    <tr>\n",
       "      <th>0</th>\n",
       "      <td>aryaghuna faturahman</td>\n",
       "      <td>Bg ke medan la aku mau pangkas sama abg🤣</td>\n",
       "    </tr>\n",
       "    <tr>\n",
       "      <th>1</th>\n",
       "      <td>Bubuk Rengginang</td>\n",
       "      <td>Nyesel gak tuh orangnya pas dicukur</td>\n",
       "    </tr>\n",
       "    <tr>\n",
       "      <th>2</th>\n",
       "      <td>Yahya Mahdavikia</td>\n",
       "      <td>Itu yg terakhir anak lu bang?</td>\n",
       "    </tr>\n",
       "    <tr>\n",
       "      <th>3</th>\n",
       "      <td>Hendra Setiawan</td>\n",
       "      <td>Bang, model yang cocok untuk rambut yg tumbuhn...</td>\n",
       "    </tr>\n",
       "    <tr>\n",
       "      <th>4</th>\n",
       "      <td>CaEmZa</td>\n",
       "      <td>Njir😂😂 mantap bng</td>\n",
       "    </tr>\n",
       "    <tr>\n",
       "      <th>...</th>\n",
       "      <td>...</td>\n",
       "      <td>...</td>\n",
       "    </tr>\n",
       "    <tr>\n",
       "      <th>146</th>\n",
       "      <td>John 11 Navy</td>\n",
       "      <td>4:59\\nItu bukan luka kh kepalanya bang</td>\n",
       "    </tr>\n",
       "    <tr>\n",
       "      <th>147</th>\n",
       "      <td>Faiz Akbar Fathary</td>\n",
       "      <td>Bang jule, kalau kontennya mau lebih dikenal l...</td>\n",
       "    </tr>\n",
       "    <tr>\n",
       "      <th>148</th>\n",
       "      <td>barry borneo</td>\n",
       "      <td>yg transfaran itu</td>\n",
       "    </tr>\n",
       "    <tr>\n",
       "      <th>149</th>\n",
       "      <td>gym hasan Bisri</td>\n",
       "      <td>Gak ada tantangan  model rambut nyaaa...polossss</td>\n",
       "    </tr>\n",
       "    <tr>\n",
       "      <th>150</th>\n",
       "      <td>sherlock Petrucci</td>\n",
       "      <td>Kayaknya gue bisa motong yg model kayak gini w...</td>\n",
       "    </tr>\n",
       "  </tbody>\n",
       "</table>\n",
       "<p>151 rows × 2 columns</p>\n",
       "</div>"
      ],
      "text/plain": [
       "                 UserName                                           Comments\n",
       "0    aryaghuna faturahman           Bg ke medan la aku mau pangkas sama abg🤣\n",
       "1        Bubuk Rengginang                Nyesel gak tuh orangnya pas dicukur\n",
       "2        Yahya Mahdavikia                      Itu yg terakhir anak lu bang?\n",
       "3         Hendra Setiawan  Bang, model yang cocok untuk rambut yg tumbuhn...\n",
       "4                  CaEmZa                                  Njir😂😂 mantap bng\n",
       "..                    ...                                                ...\n",
       "146          John 11 Navy             4:59\\nItu bukan luka kh kepalanya bang\n",
       "147    Faiz Akbar Fathary  Bang jule, kalau kontennya mau lebih dikenal l...\n",
       "148          barry borneo                                  yg transfaran itu\n",
       "149       gym hasan Bisri   Gak ada tantangan  model rambut nyaaa...polossss\n",
       "150     sherlock Petrucci  Kayaknya gue bisa motong yg model kayak gini w...\n",
       "\n",
       "[151 rows x 2 columns]"
      ]
     },
     "execution_count": 8,
     "metadata": {},
     "output_type": "execute_result"
    }
   ],
   "source": [
    "df"
   ]
  },
  {
   "cell_type": "code",
   "execution_count": 313,
   "metadata": {},
   "outputs": [],
   "source": [
    "df.to_csv(\"Cara Menentukan Arah Sisiran Yang Benar.csv\")"
   ]
  }
 ],
 "metadata": {
  "kernelspec": {
   "display_name": "Python 3",
   "language": "python",
   "name": "python3"
  },
  "language_info": {
   "codemirror_mode": {
    "name": "ipython",
    "version": 3
   },
   "file_extension": ".py",
   "mimetype": "text/x-python",
   "name": "python",
   "nbconvert_exporter": "python",
   "pygments_lexer": "ipython3",
   "version": "3.7.1"
  }
 },
 "nbformat": 4,
 "nbformat_minor": 2
}
